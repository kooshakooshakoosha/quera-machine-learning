{
 "cells": [
  {
   "cell_type": "code",
   "execution_count": 1,
   "metadata": {},
   "outputs": [
    {
     "name": "stderr",
     "output_type": "stream",
     "text": [
      "WARNING: Skipping H2O as it is not installed.\n"
     ]
    }
   ],
   "source": [
    "!pip uninstall H2O"
   ]
  },
  {
   "cell_type": "code",
   "execution_count": 3,
   "metadata": {},
   "outputs": [
    {
     "name": "stdout",
     "output_type": "stream",
     "text": [
      "Collecting h2o==3.36.1.4\n",
      "  Downloading h2o-3.36.1.4.tar.gz (177.1 MB)\n",
      "     ------------------------------------ 177.1/177.1 MB 748.6 kB/s eta 0:00:00\n",
      "  Preparing metadata (setup.py): started\n",
      "  Preparing metadata (setup.py): finished with status 'done'\n",
      "Requirement already satisfied: requests in c:\\users\\bluenotebook\\desktop\\media\\ex\\qenv\\lib\\site-packages (from h2o==3.36.1.4) (2.32.3)\n",
      "Collecting tabulate\n",
      "  Downloading tabulate-0.9.0-py3-none-any.whl (35 kB)\n",
      "Collecting future\n",
      "  Downloading future-1.0.0-py3-none-any.whl (491 kB)\n",
      "     -------------------------------------- 491.3/491.3 KB 1.0 MB/s eta 0:00:00\n",
      "Requirement already satisfied: urllib3<3,>=1.21.1 in c:\\users\\bluenotebook\\desktop\\media\\ex\\qenv\\lib\\site-packages (from requests->h2o==3.36.1.4) (2.2.3)\n",
      "Requirement already satisfied: charset-normalizer<4,>=2 in c:\\users\\bluenotebook\\desktop\\media\\ex\\qenv\\lib\\site-packages (from requests->h2o==3.36.1.4) (3.4.0)\n",
      "Requirement already satisfied: idna<4,>=2.5 in c:\\users\\bluenotebook\\desktop\\media\\ex\\qenv\\lib\\site-packages (from requests->h2o==3.36.1.4) (3.10)\n",
      "Requirement already satisfied: certifi>=2017.4.17 in c:\\users\\bluenotebook\\desktop\\media\\ex\\qenv\\lib\\site-packages (from requests->h2o==3.36.1.4) (2024.8.30)\n",
      "Using legacy 'setup.py install' for h2o, since package 'wheel' is not installed.\n",
      "Installing collected packages: tabulate, future, h2o\n",
      "  Running setup.py install for h2o: started\n",
      "  Running setup.py install for h2o: finished with status 'done'\n",
      "Successfully installed future-1.0.0 h2o-3.36.1.4 tabulate-0.9.0\n"
     ]
    },
    {
     "name": "stderr",
     "output_type": "stream",
     "text": [
      "WARNING: You are using pip version 22.0.4; however, version 25.0.1 is available.\n",
      "You should consider upgrading via the 'C:\\Users\\BLUENOTEBOOK\\Desktop\\media\\ex\\qenv\\Scripts\\python.exe -m pip install --upgrade pip' command.\n"
     ]
    }
   ],
   "source": [
    "!pip install h2o==3.36.1.4"
   ]
  },
  {
   "cell_type": "code",
   "execution_count": null,
   "metadata": {},
   "outputs": [],
   "source": [
    "import h2o\n",
    "h2o.init()"
   ]
  }
 ],
 "metadata": {
  "kernelspec": {
   "display_name": "qenv",
   "language": "python",
   "name": "python3"
  },
  "language_info": {
   "codemirror_mode": {
    "name": "ipython",
    "version": 3
   },
   "file_extension": ".py",
   "mimetype": "text/x-python",
   "name": "python",
   "nbconvert_exporter": "python",
   "pygments_lexer": "ipython3",
   "version": "3.9.13"
  }
 },
 "nbformat": 4,
 "nbformat_minor": 2
}
